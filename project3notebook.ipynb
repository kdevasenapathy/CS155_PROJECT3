{
 "cells": [
  {
   "cell_type": "markdown",
   "metadata": {},
   "source": [
    "# CS155 Project 3: Shakespearean Sonnets"
   ]
  },
  {
   "cell_type": "code",
   "execution_count": 122,
   "metadata": {},
   "outputs": [],
   "source": [
    "import random\n",
    "import os\n",
    "import nltk\n",
    "from nltk.corpus import cmudict\n",
    "from HMM_Project3 import unsupervised_HMM\n",
    "from nltk.tokenize import TweetTokenizer\n",
    "tknzr = TweetTokenizer()"
   ]
  },
  {
   "cell_type": "markdown",
   "metadata": {},
   "source": [
    "## Preprocessing:\n",
    "\n",
    "#### Initial Attempt:\n",
    "- Process the words line by line\n",
    "- Remove line containing numbering for poem (1, 2, 3, etc.)\n",
    "- Change all the words to lowercase\n",
    "- Uses TweetTokenizer to separate words (retains apostrophes and hyphens)\n",
    "- Remove all punctualization"
   ]
  },
  {
   "cell_type": "code",
   "execution_count": 89,
   "metadata": {},
   "outputs": [],
   "source": [
    "def preprocess_init(text):\n",
    "    # Convert text to dataset.\n",
    "    lines = text.split('\\n')\n",
    "\n",
    "    obs_counter = 0\n",
    "    obs = []\n",
    "    obs_map = {}\n",
    "\n",
    "    for line in lines:\n",
    "        # Separate into words using TweetTokenizer and lowercase\n",
    "        sentence = tknzr.tokenize(line)\n",
    "        # Skip if line is poem numbering\n",
    "        if sentence != [] and not sentence[0].isnumeric():\n",
    "            obs_elem = []\n",
    "            punct = \".',':;!?()\"; \n",
    "            \n",
    "            for word in sentence:\n",
    "                # Remove intermediate punctuation\n",
    "                if not word in punct:\n",
    "                    # Turn to lowercase\n",
    "                    word = word.lower()\n",
    "                    if word not in obs_map:\n",
    "                        # Add unique words to the observations map.\n",
    "                        obs_map[word] = obs_counter\n",
    "                        obs_counter += 1\n",
    "\n",
    "                    # Add the encoded word.\n",
    "                    obs_elem.append(obs_map[word])\n",
    "\n",
    "            # Add the encoded sequence.\n",
    "            obs.append(obs_elem)\n",
    "\n",
    "    return obs, obs_map"
   ]
  },
  {
   "cell_type": "code",
   "execution_count": 90,
   "metadata": {},
   "outputs": [],
   "source": [
    "text = open(os.path.join(os.getcwd(), 'data/shakespeare.txt')).read()\n",
    "obs, obs_map = preprocess_init(text)"
   ]
  },
  {
   "cell_type": "markdown",
   "metadata": {},
   "source": [
    "## Unsupervised Learning and Poetry Generation with HMMs:\n",
    "\n",
    "If we were to do a training/testing split for using validation to determine the number of states, we wouldn't be able to guarantee that every state would end up in the training set since some words only appear once in all of the poems. So, we will instead generate some sample poems and subjectively judge the best number of states, as suggested on Piazza."
   ]
  },
  {
   "cell_type": "code",
   "execution_count": 92,
   "metadata": {},
   "outputs": [],
   "source": [
    "def obs_map_reverser(obs_map):\n",
    "    obs_map_r = {}\n",
    "\n",
    "    for key in obs_map:\n",
    "        obs_map_r[obs_map[key]] = key\n",
    "\n",
    "    return obs_map_r"
   ]
  },
  {
   "cell_type": "markdown",
   "metadata": {},
   "source": [
    "#### Initial Attempt:\n",
    "- Determine number of words in each line by sampling randomly from all of the line lengths\n",
    "- Dictate all of the end-line punctuation to be commas except for the final line, which ends with a period.\n",
    "- Use characteristic 14-phrase structure."
   ]
  },
  {
   "cell_type": "code",
   "execution_count": 101,
   "metadata": {},
   "outputs": [],
   "source": [
    "# Generate array of all shakespeare line lengths (in terms of number of words)\n",
    "line_lens = [len(i) for i in obs]"
   ]
  },
  {
   "cell_type": "code",
   "execution_count": 99,
   "metadata": {},
   "outputs": [],
   "source": [
    "def generate_poem_init(hmm, obs_map, line_lens):\n",
    "    # Get reverse map.\n",
    "    obs_map_r = obs_map_reverser(obs_map)\n",
    "    \n",
    "    poem = \"\"\n",
    "    \n",
    "    for i in range(14):\n",
    "        # Get desired line length:\n",
    "        n_words = random.choice(line_lens)\n",
    "        emission, states = hmm.generate_emission(n_words)\n",
    "        sentence = [obs_map_r[i] for i in emission]\n",
    "        \n",
    "        formatted = ' '.join(sentence).capitalize()\n",
    "        if i < 13:\n",
    "            formatted += \",\\n\"\n",
    "        else:\n",
    "            formatted += \".\"\n",
    "        \n",
    "        poem += formatted\n",
    "\n",
    "    return poem"
   ]
  },
  {
   "cell_type": "markdown",
   "metadata": {},
   "source": [
    "Generate poems for 1, 2, 4, 8, and 16 hidden states to assess coherency:"
   ]
  },
  {
   "cell_type": "code",
   "execution_count": 105,
   "metadata": {},
   "outputs": [
    {
     "name": "stdout",
     "output_type": "stream",
     "text": [
      "\n",
      "Sample Poem:\n",
      "====================\n",
      "Of climbed so same shop and they place from,\n",
      "Walls of each what my her state be,\n",
      "Dear me posterity within in ) love's thy,\n",
      "Poet white verse thy the gone dote my,\n",
      "The me to that within heaven dispense i,\n",
      "From me or it beated look papers sharpened,\n",
      "Like set here's all insults adder's jacks that esteeming,\n",
      "For upon the all of the to fool,\n",
      "Are or course the rest swear your o makes,\n",
      "That bett'ring a thee beauty me for poor,\n",
      "Kind are anew tyrant worth lose ocean change should i,\n",
      "You more put my as which strive,\n",
      "And seeking and then and that,\n",
      "Truth the watchman nor his for use they.\n"
     ]
    }
   ],
   "source": [
    "hmm2 = unsupervised_HMM(obs, 2, 100)\n",
    "print('\\nSample Poem:\\n====================')\n",
    "print(generate_poem_init(hmm2, obs_map, line_lens))"
   ]
  },
  {
   "cell_type": "code",
   "execution_count": 106,
   "metadata": {},
   "outputs": [
    {
     "name": "stdout",
     "output_type": "stream",
     "text": [
      "\n",
      "Sample Poem:\n",
      "====================\n",
      "Fair hide share beauty's tongue and of will,\n",
      "Both with fear are his that,\n",
      "Of is were but what others hate thy lest with,\n",
      "In but dear thee mistress hath,\n",
      "His sweetest send thy to votary and cast,\n",
      "Long give and wand'ring still whereto to eyes cherubins,\n",
      "To gave methinks my argument side my is enmity,\n",
      "Vexed o was on i and you to,\n",
      "Thy quite eyes your to paying indeed conspire which,\n",
      "Memory thou laid impute niggard my ushers happy and,\n",
      "Particulars power and tell aspect flatter his full none,\n",
      "Heaven the sight saucy state a pattern beauties sweet hung left,\n",
      "And thee mine your buds,\n",
      "No frown this my black to this tell best.\n"
     ]
    }
   ],
   "source": [
    "hmm4 = unsupervised_HMM(obs, 4, 100)\n",
    "print('\\nSample Poem:\\n====================')\n",
    "print(generate_poem_init(hmm4, obs_map, line_lens))"
   ]
  },
  {
   "cell_type": "code",
   "execution_count": 112,
   "metadata": {},
   "outputs": [
    {
     "name": "stdout",
     "output_type": "stream",
     "text": [
      "\n",
      "Sample Poem:\n",
      "====================\n",
      "Like found in importune the with this waste,\n",
      "Title a as a interest beauty's sickness pent thee,\n",
      "Made by in up in my pierced in strong,\n",
      "Better burthen leaves with clouds so excellent,\n",
      "Be gainst at much so perish who of,\n",
      "See that nymphs let unfair of,\n",
      "All jacks those grief's moment yours touches work,\n",
      "Nor it think if thee for,\n",
      "That or we have thy straight is thy,\n",
      "Or and but boast my slave or,\n",
      "Bars breast both sun dead thy in fears,\n",
      "Despise the every dear-purchased decay of my,\n",
      "Dateless all the expiate sweets upon that form,\n",
      "Her appetite life that find me seal from self.\n"
     ]
    }
   ],
   "source": [
    "hmm8 = unsupervised_HMM(obs, 8, 100)\n",
    "print('\\nSample Poem:\\n====================')\n",
    "print(generate_poem_init(hmm8, obs_map, line_lens))"
   ]
  },
  {
   "cell_type": "code",
   "execution_count": 120,
   "metadata": {},
   "outputs": [
    {
     "name": "stdout",
     "output_type": "stream",
     "text": [
      "\n",
      "Sample Poem:\n",
      "====================\n",
      "Merits had they thought acquaintance in boast bud,\n",
      "If that them again from kind,\n",
      "And and much to fair sounds renewed from,\n",
      "Of on hast golden might their for their store,\n",
      "Morning then sing when nor respect and jaws,\n",
      "Or best use the music world is,\n",
      "Gems tables dull broke holds me it mind when suffered,\n",
      "Some why for pace than and majesty prisoner,\n",
      "My no bonds from my,\n",
      "Am see courses hath the sweet moon as,\n",
      "And and mother it there upon ill,\n",
      "Taste called live i use death's heart with fortune,\n",
      "World soil of my brave treasure and thy tears,\n",
      "Brave sweet grief untold eye to seeming why heaven lost.\n"
     ]
    }
   ],
   "source": [
    "hmm16 = unsupervised_HMM(obs, 16, 100)\n",
    "print('\\nSample Poem:\\n====================')\n",
    "print(generate_poem_init(hmm16, obs_map, line_lens))"
   ]
  },
  {
   "cell_type": "markdown",
   "metadata": {},
   "source": [
    "The poems are all generally pretty nonsensical, but grammatically the poem with 8 hidden states and the poem with 16 hidden states performed significantly better. Since their performance grammatically was relatively similar, and both are still relatively thematically uncoordinated, for the sake of the time tradeoff we will use 8 hidden states for further generation/improvements."
   ]
  },
  {
   "cell_type": "markdown",
   "metadata": {},
   "source": [
    "## Additional Goals:\n",
    "\n",
    "In the following preprocessing and generation functions, we modified them to attempt to include the following aspects from the actual Shakespearean poetry:\n",
    "\n",
    "#### Rhyme\n",
    "We implement the *abab cdcd efef gg* rhyme scheme by making a dictionary of all rhyming end pairs during pre-processing, and by seeding each paired phrase with a randomly generated pair from the dictionary and generating the poetry in reverse.\n",
    "\n",
    "#### Syllable Count (10)\n",
    "We implement the 10 syllable count by counting as we generate an emission and limiting the possibilities for words as we reach the end so that we end up at 10 syllables.\n",
    "\n",
    "#### Punctuation\n",
    "We implement this by allowing intermediate commas in the emission, and since the end-of-line punctuation has more to do with poetic structure than with the preceeding word, we will generate it making a distribution for each line number of what the punctuation usually is and then sampling from that distribution (with the exception of the final line, which is always a period). "
   ]
  },
  {
   "cell_type": "markdown",
   "metadata": {},
   "source": [
    "To do this, we first need to parse the syllable counts:"
   ]
  },
  {
   "cell_type": "code",
   "execution_count": 123,
   "metadata": {},
   "outputs": [],
   "source": [
    "def parse_syll_text(syll_text):\n",
    "    # Convert syllable text to dictionary\n",
    "    lines = [line.split() for line in syll_text.split('\\n') if line.split()]\n",
    "\n",
    "    syll_dict = {}\n",
    "\n",
    "    for line in lines:\n",
    "        word = re.sub(r'[^\\w]', '', line[0]).lower()\n",
    "        syll_dict[word] = line[1:]\n",
    "\n",
    "    return syll_dict"
   ]
  },
  {
   "cell_type": "code",
   "execution_count": 124,
   "metadata": {},
   "outputs": [],
   "source": [
    "syll_text = open(os.path.join(os.getcwd(), 'data/Syllable_dictionary.txt')).read()\n",
    "syll_dict = parse_syll_text(syll_text)"
   ]
  },
  {
   "cell_type": "markdown",
   "metadata": {},
   "source": [
    "Now, we need to initialize the rhyming and endline punctuation dictionaries:"
   ]
  },
  {
   "cell_type": "code",
   "execution_count": 129,
   "metadata": {},
   "outputs": [],
   "source": [
    "rhyme_dict = {}\n",
    "punct_dict = {k: [] for k in range(13)}"
   ]
  },
  {
   "cell_type": "code",
   "execution_count": null,
   "metadata": {},
   "outputs": [],
   "source": []
  }
 ],
 "metadata": {
  "kernelspec": {
   "display_name": "Python 3",
   "language": "python",
   "name": "python3"
  },
  "language_info": {
   "codemirror_mode": {
    "name": "ipython",
    "version": 3
   },
   "file_extension": ".py",
   "mimetype": "text/x-python",
   "name": "python",
   "nbconvert_exporter": "python",
   "pygments_lexer": "ipython3",
   "version": "3.7.4"
  }
 },
 "nbformat": 4,
 "nbformat_minor": 4
}
